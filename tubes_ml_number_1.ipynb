{
  "nbformat": 4,
  "nbformat_minor": 0,
  "metadata": {
    "colab": {
      "provenance": []
    },
    "kernelspec": {
      "name": "python3",
      "display_name": "Python 3"
    },
    "language_info": {
      "name": "python"
    }
  },
  "cells": [
    {
      "cell_type": "code",
      "execution_count": null,
      "metadata": {
        "id": "EatE4blO9p_3"
      },
      "outputs": [],
      "source": [
        "import pandas as pd\n",
        "import numpy as np\n",
        "from sklearn.neural_network import MLPRegressor\n",
        "from sklearn.model_selection import train_test_split\n",
        "from sklearn.preprocessing import StandardScaler, MinMaxScaler\n",
        "from sklearn.metrics import mean_squared_error, r2_score, mean_absolute_error\n"
      ]
    },
    {
      "cell_type": "code",
      "source": [
        "# Membaca DataFrame dari tautan\n",
        "url = 'https://raw.githubusercontent.com/delyrafael/TubesMachineLearning/main/dataset_factbook.csv'\n",
        "df = pd.read_csv(url, delimiter=';')\n"
      ],
      "metadata": {
        "id": "_sNo0kWjkk_W"
      },
      "execution_count": null,
      "outputs": []
    },
    {
      "cell_type": "code",
      "source": [
        "# Memilih atribut yang diperlukan\n",
        "x = df[['Exports', 'Imports', 'Industrial production growth rate', 'Investment', 'Unemployment rate', 'GDP']]\n",
        "\n",
        "# Memisahkan atribut prediksi (X) dan target (y)\n",
        "X = x.drop('GDP', axis=1)\n",
        "y = x['GDP']\n"
      ],
      "metadata": {
        "id": "IfIGinaWkn9G"
      },
      "execution_count": null,
      "outputs": []
    },
    {
      "cell_type": "code",
      "source": [
        "# Normalisasi target (y)\n",
        "scaler_y = MinMaxScaler()\n",
        "y_scaled = scaler_y.fit_transform(y.values.reshape(-1, 1))\n"
      ],
      "metadata": {
        "id": "aPrITMN0krZ1"
      },
      "execution_count": null,
      "outputs": []
    },
    {
      "cell_type": "code",
      "source": [
        "# Melakukan penskalaan fitur menggunakan StandardScaler\n",
        "scaler = StandardScaler()\n",
        "X_scaled = scaler.fit_transform(X)"
      ],
      "metadata": {
        "id": "VwaUPL9Kktxl"
      },
      "execution_count": null,
      "outputs": []
    },
    {
      "cell_type": "code",
      "source": [
        "# Memisahkan data menjadi set pelatihan dan pengujian\n",
        "X_train, X_test, y_train, y_test = train_test_split(X_scaled, y_scaled, test_size=0.2, random_state=42)\n",
        "\n",
        "# Mengubah bentuk array target (y)\n",
        "y_train = y_train.ravel()\n",
        "y_test = y_test.ravel()\n",
        "\n",
        "# Membangun model MLP\n",
        "mlp = MLPRegressor(hidden_layer_sizes=(100, 100), activation='relu', solver='adam', alpha=0.0001,\n",
        "                   max_iter=1000, random_state=42)\n",
        "\n",
        "mlp.fit(X_train, y_train)\n",
        "\n",
        "# Memprediksi GDP pada set pengujian\n",
        "y_pred = mlp.predict(X_test)\n",
        "\n",
        "# Menghitung rata-rata galat kuadrat (MSE)\n",
        "mse = mean_squared_error(y_test, y_pred)\n",
        "mae = mean_absolute_error(y_test, y_pred)\n",
        "r2 = r2_score(y_test, y_pred)\n",
        "rmse = np.sqrt(mse)\n",
        "\n",
        "\n",
        "# Print the evaluation metrics\n",
        "print(f'MSE : {mse:.4f}')\n",
        "print(f'RMSE: {rmse:.4f}')\n",
        "print(f'MAE : {mae:.4f}')\n",
        "print(f'R^2 : {r2:.2f}')"
      ],
      "metadata": {
        "colab": {
          "base_uri": "https://localhost:8080/"
        },
        "id": "6x_jeFK0kz3_",
        "outputId": "01fb4080-2a8a-4a1a-f18b-cfee53088f0a"
      },
      "execution_count": null,
      "outputs": [
        {
          "output_type": "stream",
          "name": "stdout",
          "text": [
            "MSE : 0.0037\n",
            "RMSE: 0.0611\n",
            "MAE : 0.0419\n",
            "R^2 : 0.85\n"
          ]
        }
      ]
    },
    {
      "cell_type": "code",
      "source": [
        "import matplotlib.pyplot as plt\n",
        "import seaborn as sns\n",
        "\n",
        "# Mengembalikan skala awal untuk hasil prediksi dan target aktual\n",
        "y_pred = scaler_y.inverse_transform(y_pred.reshape(-1, 1)).ravel()\n",
        "y_test = scaler_y.inverse_transform(y_test.reshape(-1, 1)).ravel()\n",
        "\n",
        "# Menampilkan hasil prediksi GDP\n",
        "df_pred = pd.DataFrame({'Prediksi GDP': y_pred, 'Target Aktual': y_test})\n",
        "print(df_pred)\n",
        "\n",
        "# Visualisasi hasil prediksi dan target aktual menggunakan scatter plot\n",
        "plt.scatter(y_test, y_pred)\n",
        "plt.plot([min(y_test), max(y_test)], [min(y_test), max(y_test)], color='red', linestyle='--')\n",
        "plt.xlabel('Target Aktual')\n",
        "plt.ylabel('Prediksi')\n",
        "plt.title('Prediksi GDP menggunakan MLP')\n",
        "plt.show()"
      ],
      "metadata": {
        "colab": {
          "base_uri": "https://localhost:8080/",
          "height": 784
        },
        "id": "jbBF4KRVMMiu",
        "outputId": "2d7f00be-efb7-4e35-b31f-111a08c0d51c"
      },
      "execution_count": null,
      "outputs": [
        {
          "output_type": "stream",
          "name": "stdout",
          "text": [
            "    Prediksi GDP  Target Aktual\n",
            "0  -2.541388e+13   1.879000e+12\n",
            "1   2.095969e+14   3.745000e+14\n",
            "2   5.349976e+13   1.691000e+13\n",
            "3  -1.917072e+13   2.757000e+13\n",
            "4   7.881322e+13   4.835000e+13\n",
            "5   3.588394e+13   1.505000e+12\n",
            "6   5.982459e+12   2.123000e+13\n",
            "7   2.408638e+13   1.234000e+12\n",
            "8   5.277904e+14   7.262000e+14\n",
            "9   1.267690e+14   3.162000e+13\n",
            "10 -1.134036e+13   1.836000e+12\n",
            "11  3.727912e+13   2.550000e+12\n",
            "12  2.545404e+13   1.715000e+13\n",
            "13  3.957345e+13   7.088000e+12\n",
            "14  1.874340e+13   9.251000e+12\n",
            "15  3.021770e+13   1.440000e+12\n",
            "16  5.641294e+13   1.887000e+13\n"
          ]
        },
        {
          "output_type": "display_data",
          "data": {
            "text/plain": [
              "<Figure size 640x480 with 1 Axes>"
            ],
            "image/png": "[encoded data removed]"
          },
          "metadata": {}
        }
      ]
    }
  ]
}